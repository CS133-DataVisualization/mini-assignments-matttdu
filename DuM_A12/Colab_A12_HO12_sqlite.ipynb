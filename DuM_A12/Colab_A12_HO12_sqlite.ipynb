{
  "cells": [
    {
      "cell_type": "markdown",
      "metadata": {
        "id": "ZgULxg_0AuZL"
      },
      "source": [
        "###**Q1**.  Use Lucidchart to create an Entity Relationship Diagram (ERD) for the following tables representing a customer order tracking system:\n",
        "\n",
        "Tables and fields:\n",
        "1. product:\n",
        "    - product_id: INTEGER (Primary key)\n",
        "    - name: TEXT not null\n",
        "    - price: REAL\n",
        "\n",
        "\n",
        "2. customer:\n",
        "    - customer_id: INTEGER (Primary key)\n",
        "    - name: TEXT not null\n",
        "    - email: TEXT not null\n",
        "\n",
        "\n",
        "3. purchase_order:\n",
        "    - order_id: INTEGER (Primary key)\n",
        "    - customer_id: INTEGER (Foreign key)\n",
        "    - date: TEXT not null (\"YYYY-MM-DD\")\n",
        "\n",
        "\n",
        "4. order_item:\n",
        "    - order_id: INTEGER (Foreign key)\n",
        "    - product_id: INTEGER (Foreign key)\n",
        "    - quantity: INTEGER\n",
        "    \n",
        "\n",
        "\n",
        "Export the ERD as PDF and submit it in Canvas."
      ]
    },
    {
      "cell_type": "markdown",
      "metadata": {
        "id": "PZJtgMx7AuZO"
      },
      "source": [
        "###**Q2**. Create SQLite tables and load data\n",
        "1. Here are the csv files for the data for the four tables:\n",
        "   - product: https://raw.githubusercontent.com/csbfx/cs133/main/product.csv\n",
        "   - customer: https://raw.githubusercontent.com/csbfx/cs133/main/customer.csv\n",
        "   - order_item: https://raw.githubusercontent.com/csbfx/cs133/main/order_item.csv\n",
        "   - purchase_order: https://raw.githubusercontent.com/csbfx/cs133/main/purchase_order.csv\n",
        "2. In this notebook, create the database and save it in a file called `store.db`, and create the four tables as described above.\n",
        "3. Load the data in the csv files into the corresponding table.\n",
        "4. Commit so that the data loaded to the tables to officially written to the tables.\n",
        "5. Execute a query SELECT * from each table to make sure the data are properly loaded.\n",
        "6. Execute a query using SELECT statement that queries with JOIN tables to find the purchase date, the products and quantities that a particular customer has purchased."
      ]
    },
    {
      "cell_type": "code",
      "source": [
        "import sqlite3\n",
        "import pandas as pd\n",
        "from pathlib import Path\n",
        "from google.colab import drive\n",
        "drive.mount('/content/drive', force_remount=True)"
      ],
      "metadata": {
        "colab": {
          "base_uri": "https://localhost:8080/"
        },
        "id": "9ZK0hyvCkQnL",
        "outputId": "b30f9c7d-a70d-487a-c1cb-4e6a2d7a2c1b"
      },
      "execution_count": 1,
      "outputs": [
        {
          "output_type": "stream",
          "name": "stdout",
          "text": [
            "Mounted at /content/drive\n"
          ]
        }
      ]
    },
    {
      "cell_type": "code",
      "execution_count": 2,
      "metadata": {
        "id": "w4xnppG8AuZP",
        "colab": {
          "base_uri": "https://localhost:8080/"
        },
        "outputId": "17626bd5-5ac9-42ff-cf40-3946090729bd"
      },
      "outputs": [
        {
          "output_type": "execute_result",
          "data": {
            "text/plain": [
              "<sqlite3.Cursor at 0x7e9a92757240>"
            ]
          },
          "metadata": {},
          "execution_count": 2
        }
      ],
      "source": [
        "# 2.2 Create the database and save it in a file called store.db, and create the four tables as described above.\n",
        "# Your code here . . .\n",
        "#PRAGMA foreign_keys=ON;\n",
        "gdrive='drive/MyDrive/CS 133/week10_sql/'\n",
        "Path(gdrive+'store.db').touch()\n",
        "conn = sqlite3.connect(gdrive+'store.db') # creates a connection to the database\n",
        "c = conn.cursor() # the cursor is what we'll actually use\n",
        "\n",
        "SQL_CreateTable = '''CREATE TABLE IF NOT EXISTS product (\n",
        "             product_id INTEGER PRIMARY KEY,\n",
        "             name TEXT NOT NULL,\n",
        "             price REAL\n",
        "             )'''\n",
        "c.execute(SQL_CreateTable)\n",
        "\n",
        "SQL_CreateTable = '''CREATE TABLE IF NOT EXISTS customer (\n",
        "             customer_id INTEGER PRIMARY KEY,\n",
        "             name TEXT NOT NULL,\n",
        "             email TEXT NOT NULL\n",
        "             )'''\n",
        "c.execute(SQL_CreateTable)\n",
        "\n",
        "SQL_CreateTable = '''CREATE TABLE IF NOT EXISTS purchase_order (\n",
        "            order_id INTEGER PRIMARY KEY,\n",
        "            customer_id INTEGER,\n",
        "            date TEXT NOT NULL,\n",
        "            FOREIGN KEY (customer_id)\n",
        "              REFERENCES customer (customer_id)\n",
        "                ON DELETE CASCADE\n",
        "                ON UPDATE NO ACTION\n",
        "            )'''\n",
        "c.execute(SQL_CreateTable)\n",
        "\n",
        "SQL_CreateTable = '''CREATE TABLE IF NOT EXISTS order_item (\n",
        "            order_id INTEGER,\n",
        "            product_id INTEGER,\n",
        "            quantity INTEGER,\n",
        "            FOREIGN KEY (order_id)\n",
        "              REFERENCES purchase_order (order_id)\n",
        "                ON DELETE CASCADE\n",
        "                ON UPDATE NO ACTION,\n",
        "            FOREIGN KEY (product_id)\n",
        "              REFERENCES product (product_id)\n",
        "                ON DELETE CASCADE\n",
        "                ON UPDATE NO ACTION\n",
        "            )'''\n",
        "c.execute(SQL_CreateTable)"
      ]
    },
    {
      "cell_type": "code",
      "source": [
        "# 2.3 Load the data in the csv files into the corresponding table.\n",
        "# Your code here . . .\n",
        "product = pd.read_csv(\"https://raw.githubusercontent.com/csbfx/cs133/main/product.csv\")\n",
        "customer = pd.read_csv(\"https://raw.githubusercontent.com/csbfx/cs133/main/customer.csv\")\n",
        "order_item = pd.read_csv(\"https://raw.githubusercontent.com/csbfx/cs133/main/order_item.csv\")\n",
        "purchase_order = pd.read_csv(\"https://raw.githubusercontent.com/csbfx/cs133/main/purchase_order.csv\")"
      ],
      "metadata": {
        "id": "WPRhy-dSBY-c"
      },
      "execution_count": 3,
      "outputs": []
    },
    {
      "cell_type": "code",
      "source": [
        "# 2.4 Commit so that the data loaded to the tables to officially written to the tables.\n",
        "# Your code here . . .\n",
        "product.to_sql('product', conn, if_exists='append', index=False)\n",
        "customer.to_sql('customer', conn, if_exists='append', index=False)\n",
        "order_item.to_sql('order_item', conn, if_exists='append', index=False)\n",
        "purchase_order.to_sql('purchase_order', conn, if_exists='append', index=False)"
      ],
      "metadata": {
        "id": "VIBaGXPABbVO",
        "colab": {
          "base_uri": "https://localhost:8080/"
        },
        "outputId": "aa7fd4c3-0c28-4ed3-8a7b-7e65884c3ec1"
      },
      "execution_count": 4,
      "outputs": [
        {
          "output_type": "execute_result",
          "data": {
            "text/plain": [
              "3"
            ]
          },
          "metadata": {},
          "execution_count": 4
        }
      ]
    },
    {
      "cell_type": "code",
      "source": [
        "# 2.5 Execute a query SELECT * from each table to make sure the data are properly loaded.\n",
        "# Your code here . . .\n",
        "c.execute(\"SELECT * FROM product\")\n",
        "results = c.fetchall()\n",
        "print(results)\n",
        "c.execute(\"SELECT * FROM customer\")\n",
        "results = c.fetchall()\n",
        "print(results)\n",
        "c.execute(\"SELECT * FROM order_item\")\n",
        "results = c.fetchall()\n",
        "print(results)\n",
        "c.execute(\"SELECT * FROM purchase_order\")\n",
        "results = c.fetchall()\n",
        "print(results)"
      ],
      "metadata": {
        "id": "wPHFswfYBgan",
        "colab": {
          "base_uri": "https://localhost:8080/"
        },
        "outputId": "918b2b75-117e-4f29-d839-3155d9c2ac4c"
      },
      "execution_count": 5,
      "outputs": [
        {
          "output_type": "stream",
          "name": "stdout",
          "text": [
            "[(0, 'bicycle', 400.0), (1, 'helmet', 45.0), (2, 'gloves', 23.0), (3, 'chain', 48.0)]\n",
            "[(0, 'Wendy Lee', 'wlee@bike.com'), (1, 'Jason Brown', 'jb@speed.com'), (2, 'Harry Potter', 'hp@hogwarts.edu'), (3, 'Godric Gryffindor', 'gg@hogwards.edu')]\n",
            "[(0, 0, 1), (0, 1, 1), (1, 2, 2), (1, 3, 1)]\n",
            "[(0, 0, '2020-10-19'), (1, 0, '2020-10-20'), (2, 1, '2020-10-20')]\n"
          ]
        }
      ]
    },
    {
      "cell_type": "code",
      "source": [
        "# 2.6 Execute a query using SELECT statement that queries with JOIN tables to find the purchase date,\n",
        "#    the products and quantities that a particular customer has purchased.\n",
        "# Your code here . . .\n",
        "SQL_JointQuery = '''SELECT purchase_order.date, product.name,\n",
        "                order_item.quantity FROM product\n",
        "                JOIN order_item using (product_id)\n",
        "                JOIN purchase_order using (order_id)\n",
        "                JOIN customer using (customer_id)\n",
        "                WHERE customer.name='Wendy Lee'\n",
        "                '''\n",
        "c.execute(SQL_JointQuery)\n",
        "joint_results = c.fetchall()\n",
        "print(joint_results)"
      ],
      "metadata": {
        "id": "armxZeMPBmSe",
        "colab": {
          "base_uri": "https://localhost:8080/"
        },
        "outputId": "fdeb1808-7f34-42c9-f16b-3d0da03e9ea4"
      },
      "execution_count": 12,
      "outputs": [
        {
          "output_type": "stream",
          "name": "stdout",
          "text": [
            "[('2020-10-19', 'bicycle', 1), ('2020-10-19', 'helmet', 1), ('2020-10-20', 'gloves', 2), ('2020-10-20', 'chain', 1)]\n"
          ]
        }
      ]
    }
  ],
  "metadata": {
    "kernelspec": {
      "display_name": "Python 3",
      "language": "python",
      "name": "python3"
    },
    "language_info": {
      "codemirror_mode": {
        "name": "ipython",
        "version": 3
      },
      "file_extension": ".py",
      "mimetype": "text/x-python",
      "name": "python",
      "nbconvert_exporter": "python",
      "pygments_lexer": "ipython3",
      "version": "3.7.6"
    },
    "colab": {
      "provenance": []
    }
  },
  "nbformat": 4,
  "nbformat_minor": 0
}